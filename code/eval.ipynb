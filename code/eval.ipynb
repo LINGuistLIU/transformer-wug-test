{
 "cells": [
  {
   "cell_type": "code",
   "execution_count": 1,
   "metadata": {},
   "outputs": [],
   "source": [
    "import os\n",
    "import math"
   ]
  },
  {
   "cell_type": "code",
   "execution_count": 2,
   "metadata": {},
   "outputs": [],
   "source": [
    "def read_pred(fpred):\n",
    "    id2pred = {}\n",
    "    with open(fpred) as f:\n",
    "        for line in f:\n",
    "            if line[:2] == \"H-\":\n",
    "                idx, score, pred = line.split(\"\\t\")\n",
    "                idx = int(idx.strip().split(\"-\")[-1])\n",
    "                pred = pred.strip()\n",
    "                if idx not in id2pred:\n",
    "                    id2pred[idx] = pred\n",
    "    return id2pred\n",
    "\n",
    "def read_gold(fgold):\n",
    "    id2gold = {}\n",
    "    idx = 0\n",
    "    with open(fgold) as f:\n",
    "        for line in f:\n",
    "            id2gold[idx] = line.strip()\n",
    "            idx += 1\n",
    "    return id2gold\n",
    "\n",
    "def eval_file(fpred, fgold):\n",
    "    id2pred = read_pred(fpred)\n",
    "    id2gold = read_gold(fgold)\n",
    "    guess = 0\n",
    "    correct = 0\n",
    "    assert len(id2pred) == len(id2gold)\n",
    "    for idx, gold in id2gold.items():\n",
    "        guess += 1\n",
    "        if gold == id2pred[idx]:\n",
    "            correct += 1\n",
    "    acc = round(100*correct/guess, 2)\n",
    "    return acc, correct, guess"
   ]
  },
  {
   "cell_type": "code",
   "execution_count": 3,
   "metadata": {},
   "outputs": [],
   "source": [
    "def _get_squared_dif(acclist, avg):\n",
    "    sum_dif = 0\n",
    "    for acc in acclist:\n",
    "        dif = acc - avg\n",
    "        sum_dif += dif * dif\n",
    "    return sum_dif\n",
    "\n",
    "def get_avg_std(acclist):\n",
    "    avg = sum(acclist)/len(acclist)\n",
    "    std = math.sqrt(_get_squared_dif(acclist, avg)/3)\n",
    "    return round(avg, 2), round(std, 2)"
   ]
  },
  {
   "cell_type": "code",
   "execution_count": 4,
   "metadata": {},
   "outputs": [],
   "source": [
    "# langlist = [\"czech\", \"finnish\", \"german\", \"russian\", \"spanish\", \"turkish\"]\n",
    "langlist = [\"aka\", \"gaa\", \"lin\", \"nya\", \"sot\", \"swa\"]\n",
    "\n",
    "splittype = \"test\"\n",
    "# splittype = \"dev\"\n",
    "\n",
    "# seedlist = [str(i)] for i in range(1, 6)]\n",
    "foldlist = [str(i) for i in range(1, 6)] "
   ]
  },
  {
   "cell_type": "code",
   "execution_count": 5,
   "metadata": {},
   "outputs": [],
   "source": [
    "datadir = \"PATH_TO_DIRECTORY_WHERE_THE_GROUND_TRUTH_IS_STORED_IN_FAIRSEQ_FORMAT\"\n",
    "preddir = \"PATH_TO_CHECKPOINTS_WHERE_INFLECTION_PREDICTIONS_ARE_STORED\""
   ]
  },
  {
   "cell_type": "code",
   "execution_count": 7,
   "metadata": {},
   "outputs": [
    {
     "name": "stdout",
     "output_type": "stream",
     "text": [
      "41.18 +/- 18.8\n",
      "49.24 +/- 11.88\n",
      "60.83 +/- 16.7\n",
      "84.99 +/- 5.42\n",
      "6.74 +/- 8.62\n",
      "45.26 +/- 18.54\n"
     ]
    }
   ],
   "source": [
    "for lang in langlist:\n",
    "    acclist = []\n",
    "#     for seed in seedlist:\n",
    "    for fold in foldlist:\n",
    "        datadir_now = os.path.join(datadir, \"data_niger_congo\" + fold)\n",
    "        langname = lang + fold\n",
    "        fgold = os.path.join(datadir_now, langname+\"/\"+splittype+\".\"+langname+\".output\")\n",
    "        fpred = os.path.join(preddir, langname+\"-predictions\"+fold+\"/\"+splittype+\"-checkpoint_best.pt.txt\")\n",
    "        if os.path.exists(fpred):\n",
    "            acc, correct, guess = eval_file(fpred, fgold)\n",
    "            acclist.append(acc)\n",
    "        else:\n",
    "            print(\"NOT EXISTS:\", fpred)\n",
    "            acc, correct, guess = \"-\", \"-\", \"-\"\n",
    "    avg, std = get_avg_std(acclist)\n",
    "    print(\"{} +/- {}\".format(avg, std))\n",
    "#     print(acclist)"
   ]
  },
  {
   "cell_type": "code",
   "execution_count": null,
   "metadata": {},
   "outputs": [],
   "source": []
  }
 ],
 "metadata": {
  "kernelspec": {
   "display_name": "Python 3",
   "language": "python",
   "name": "python3"
  },
  "language_info": {
   "codemirror_mode": {
    "name": "ipython",
    "version": 3
   },
   "file_extension": ".py",
   "mimetype": "text/x-python",
   "name": "python",
   "nbconvert_exporter": "python",
   "pygments_lexer": "ipython3",
   "version": "3.8.5"
  }
 },
 "nbformat": 4,
 "nbformat_minor": 4
}
